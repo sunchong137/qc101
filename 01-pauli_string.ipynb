{
 "cells": [
  {
   "cell_type": "markdown",
   "metadata": {},
   "source": [
    "This practice helps us familiarize with Pauli matrices and Pauli strings. \n",
    "### 1. Pauli matrices\n",
    "The definition of Pauli matrices are:\n",
    "$$X = \\begin{pmatrix} 0 & 1 \\\\ 1 & 0\\end{pmatrix}, Y = \\begin{pmatrix} 0 & -i \\\\ i & 0\\end{pmatrix}, Z = \\begin{pmatrix} 1 & 0 \\\\ 0 & -1\\end{pmatrix}$$\n",
    "We also introduce the identity matrix\n",
    "$$I = \\begin{pmatrix} 1 & 0 \\\\ 0 & 1\\end{pmatrix}$$\n",
    "For simplicity, we include $I$ into the Pauli matrices.\n",
    "One could prove that any unitary matrix can be written as a linear combination of $\\{I, X, Y, Z\\}$."
   ]
  },
  {
   "cell_type": "markdown",
   "metadata": {},
   "source": [
    "#### Exercise 1.1\n",
    "Prove that $X^2 = Y^2 = Z^2 = I$, get the commutation relations of Pauli matrices.\\\n",
    "Hint: Commutator of two matrices: $[A, B] = AB - BA$."
   ]
  },
  {
   "cell_type": "code",
   "execution_count": 4,
   "metadata": {},
   "outputs": [],
   "source": [
    "# answer here with necessary code"
   ]
  },
  {
   "cell_type": "markdown",
   "metadata": {},
   "source": [
    "#### Exercise 1.2\n",
    "Prove that $\\mathrm{Tr}(\\sigma_a\\sigma_b) = \\delta_{ab}$, where $\\sigma_a$ and $\\sigma_b$ are two Pauli matrices."
   ]
  },
  {
   "cell_type": "code",
   "execution_count": null,
   "metadata": {},
   "outputs": [],
   "source": [
    "# answer here with necessary code"
   ]
  },
  {
   "cell_type": "markdown",
   "metadata": {},
   "source": [
    "#### Exercise 1.3\n",
    "Write a function that given a unitary matrix, return the linear combination coefficients of ${I, X, Y, Z}$. <br>\n",
    "Hint1: Write $U$ as $U = a_0 I + a_1 X + a_2 Y + a_3 Z$, and get $(a_0, a_1, a_2, a_3)$. <br>\n",
    "Hint2: Exercise 1.2."
   ]
  },
  {
   "cell_type": "code",
   "execution_count": 11,
   "metadata": {},
   "outputs": [],
   "source": [
    "# write the function and test function here \n",
    "def unitary_to_paulis(U):\n",
    "    pass\n",
    "def test_unitary_to_paulis():\n",
    "    pass"
   ]
  },
  {
   "cell_type": "markdown",
   "metadata": {},
   "source": [
    "### 2. Pauli strings\n",
    "A Pauli string is defined as a string of Pauli matrices. For example, $XXYZIZ$ is a Pauli string of length $6$. A Pauli string should be understood as a **tensor product** of Pauli matrices. <br>\n",
    "The tensor product of two matrices are defined as\n",
    "$$A\\otimes B = \\begin{pmatrix} A_{11}B & A_{12}B & \\cdots & A_{1n}B\\\\\n",
    "                               A_{21}B & A_{22}B & \\cdots & A_{2n}B\\\\\n",
    "                               \\vdots  &  \\vdots & \\ddots & \\vdots \\\\\n",
    "                               A_{m1}B & A_{m2}B & \\cdots & A_{mn}B \n",
    "                                        \\end{pmatrix}$$\n",
    "where $A$ is a $m\\times n$ matrix.<br>\n",
    "Therefore, you should really think $XXYZ = X\\otimes X \\otimes Y \\otimes Z$. This notation is only for Pauli strings, usually $AB$ still means the normal matrix product.\n",
    "\n",
    "**Lemma** Any $n$-qubit unitary matrix can be written as a linear combination of Pauli strings with length $n$."
   ]
  },
  {
   "cell_type": "markdown",
   "metadata": {},
   "source": [
    "#### Exercise 2.1\n",
    "Write down all Pauli strings of length $2$."
   ]
  },
  {
   "cell_type": "code",
   "execution_count": 5,
   "metadata": {},
   "outputs": [],
   "source": [
    "# answer here with necessary code"
   ]
  },
  {
   "cell_type": "markdown",
   "metadata": {},
   "source": [
    "#### Exercise 2.2\n",
    "Implement a function (and a test) to calculate the tensor product of two matrices. <br>\n",
    "Hint: You can look at `numpy.kron()`, but you need to write your own function."
   ]
  },
  {
   "cell_type": "code",
   "execution_count": 6,
   "metadata": {},
   "outputs": [],
   "source": [
    "# write the function and test function here \n",
    "def tensor_prod(A, B):\n",
    "    pass\n",
    "def test_tensor_prod():\n",
    "    pass"
   ]
  },
  {
   "cell_type": "markdown",
   "metadata": {},
   "source": [
    "#### Exercise 2.3\n",
    "Evaluate $ZX$ and $XXY$ with your `tensor_prod` function."
   ]
  },
  {
   "cell_type": "code",
   "execution_count": 7,
   "metadata": {},
   "outputs": [],
   "source": [
    "# answer here with necessary code"
   ]
  },
  {
   "cell_type": "markdown",
   "metadata": {},
   "source": [
    "#### Exercise 2.4\n",
    "Prove that $\\mathrm{Tr}(P_iP_j) = \\delta_{ij}$, where $P_i$ and $P_j$ are two Pauli strings with the same length. <br>\n",
    "Hint1: $(A\\otimes B)(C\\otimes D) = (AC)\\otimes (BD)$. (Withour $\\otimes$ sign means normal matrix product.) <br>\n",
    "Hint2: $\\mathrm{Tr} (A\\otimes B) = \\mathrm{Tr}(A) \\mathrm{Tr}(B)$. <br>\n",
    "Prove the hints first if you want to use them."
   ]
  },
  {
   "cell_type": "code",
   "execution_count": 8,
   "metadata": {},
   "outputs": [],
   "source": [
    "# answer here with necessary code"
   ]
  },
  {
   "cell_type": "markdown",
   "metadata": {},
   "source": [
    "#### Exercise 2.5 \n",
    "Implement a function write a $2$-qubit unitary matrix as Pauli strings of length $2$. Return the linear combination coefficients. <br>\n",
    "Hint: Exercise 1.3, 2.1 and 2.4."
   ]
  },
  {
   "cell_type": "code",
   "execution_count": 10,
   "metadata": {},
   "outputs": [],
   "source": [
    "# write the function and test function here \n",
    "def unitary_to_pauli_strs(U):\n",
    "    pass\n",
    "def test_unitary_to_pauli_strs():\n",
    "    pass"
   ]
  },
  {
   "cell_type": "code",
   "execution_count": null,
   "metadata": {},
   "outputs": [],
   "source": []
  }
 ],
 "metadata": {
  "kernelspec": {
   "display_name": "Python 3",
   "language": "python",
   "name": "python3"
  },
  "language_info": {
   "codemirror_mode": {
    "name": "ipython",
    "version": 3
   },
   "file_extension": ".py",
   "mimetype": "text/x-python",
   "name": "python",
   "nbconvert_exporter": "python",
   "pygments_lexer": "ipython3",
   "version": "3.8.5"
  }
 },
 "nbformat": 4,
 "nbformat_minor": 4
}
