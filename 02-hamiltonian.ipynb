{
 "cells": [
  {
   "cell_type": "markdown",
   "metadata": {},
   "source": [
    "In this practice, we learn about basic spin models and their matrix representations.\n",
    "### 1. Single term\n",
    "For a single term acting on certain sites in the system, we should consider identity operator $I$ acting on the other sites. For example, the term $X_2X_3$ in a system composed of $4$ sites should be really treated as $I_1X_2X_3I_4$, therefore\n",
    "$$X_2X_3 = I_1X_2X_3I_4 = I\\otimes X\\otimes X\\otimes I$$\n",
    "The final matrix ($16\\times 16$) can be evaluated as"
   ]
  },
  {
   "cell_type": "code",
   "execution_count": 6,
   "metadata": {},
   "outputs": [],
   "source": [
    "import numpy as np\n",
    "X = np.array([[0., 1., ], [1., 0.]])\n",
    "I = np.eye(2)\n",
    "x1x2 = np.kron(I, np.kron(X, np.kron(X, I)))\n",
    "#print(x1x2)"
   ]
  },
  {
   "cell_type": "markdown",
   "metadata": {},
   "source": [
    "#### Exercise  1.1\n",
    "Evaluate the matrix representation of $Z_1X_2 + Z_3$ in a $3$-site system."
   ]
  },
  {
   "cell_type": "code",
   "execution_count": null,
   "metadata": {},
   "outputs": [],
   "source": [
    "# answer here "
   ]
  },
  {
   "cell_type": "markdown",
   "metadata": {},
   "source": [
    "### 2. Ising model\n",
    "The Hamiltonian of the transverse field Ising model has the form\n",
    "$$H = -J\\sum_{\\langle i,j\\rangle} Z_iZ_j + g\\sum_i X_i$$\n",
    "where $\\langle i,j\\rangle$ indicates nearest neighbor. For the one-dimensional (1D) Ising model, we rewrite $H$ as \n",
    "$$ H = -J\\sum_{i} Z_iZ_{i+1} + g\\sum_i X_i$$\n",
    "With periodic boundary condition (PBC), $i = N, i+1 = 1$ is also included. With open boundary condition, $i$ only ranges from $1$ to $N-1$."
   ]
  },
  {
   "cell_type": "markdown",
   "metadata": {},
   "source": [
    "#### Exercise 2.1\n",
    "Give the matrix form of the 1D Ising Hamiltonian with $4$ sites and open boundary condition, $J = 1$, $g = 1$."
   ]
  },
  {
   "cell_type": "code",
   "execution_count": 8,
   "metadata": {},
   "outputs": [],
   "source": [
    "# answer here"
   ]
  },
  {
   "cell_type": "markdown",
   "metadata": {},
   "source": [
    "#### Exercise 2.2\n",
    "Diagonalize above Hamiltonian and give the ground state energy and ground state vector.\\\n",
    "(Hint: use `np.linalg.eigh()` function)"
   ]
  },
  {
   "cell_type": "markdown",
   "metadata": {},
   "source": [
    "### 3. Heisenberg model\n",
    "The Hamiltonian of the Heisenberg model is \n",
    "$$H = -J\\sum_{\\langle i,j\\rangle} \\mathbf{S}_i\\cdot\\mathbf{S}_j - h\\sum_i Z_i$$"
   ]
  },
  {
   "cell_type": "markdown",
   "metadata": {},
   "source": [
    "#### Exercise 3.1\n",
    "Give the matrix representation of a $4$-site 1D Heisenberg model with open boundary condition, $J = 1, h = 1$. Then get the ground state energy and vector."
   ]
  },
  {
   "cell_type": "code",
   "execution_count": 9,
   "metadata": {},
   "outputs": [],
   "source": [
    "# answer here"
   ]
  },
  {
   "cell_type": "code",
   "execution_count": null,
   "metadata": {},
   "outputs": [],
   "source": []
  }
 ],
 "metadata": {
  "kernelspec": {
   "display_name": "Python 3",
   "language": "python",
   "name": "python3"
  },
  "language_info": {
   "codemirror_mode": {
    "name": "ipython",
    "version": 3
   },
   "file_extension": ".py",
   "mimetype": "text/x-python",
   "name": "python",
   "nbconvert_exporter": "python",
   "pygments_lexer": "ipython3",
   "version": "3.8.5"
  }
 },
 "nbformat": 4,
 "nbformat_minor": 4
}
