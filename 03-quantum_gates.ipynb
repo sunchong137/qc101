{
 "cells": [
  {
   "cell_type": "markdown",
   "metadata": {},
   "source": [
    "Like logic gates on a classical computer, operations on a quantum computer are called **quantum gates**. If we take the quantum computer as a closed system, then the time evolution of the quantum state encoded by the qubits is described by a **unitary operation**. Therefore, quantum gates are unitary operations and thus reversible. \n",
    "\n",
    "### 1. Common quantum gates\n",
    "We list the common quantum gates below:\n",
    "#### a. Pauli Gates\n",
    "We introduced Pauli strings in the previous exercies. The Pauli gates are single-qubit gates represented by Pauli matrices: $X$, $Y$ and $Z$:\n",
    " $$\n",
    " X = \\begin{bmatrix} 0 & 1\\\\1 & 0\\end{bmatrix}, \n",
    " Y = \\begin{bmatrix} 0 & -i\\\\i & 0\\end{bmatrix}, \n",
    " Z = \\begin{bmatrix} 1 & 0\\\\0 & -1\\end{bmatrix}\n",
    " $$\n",
    "The Pauli gates operating on the qubit basis $\\{|0\\rangle, |1\\rangle\\}$ gives:\n",
    " \\begin{align}\n",
    " X|0\\rangle = |1\\rangle,  \\hspace{0.5em} & X|1\\rangle = |0\\rangle\\\\\n",
    " Y|0\\rangle = -i|1\\rangle, \\hspace{0.5em} & Y|1\\rangle = i|0\\rangle\\\\\n",
    " Z|0\\rangle = |0\\rangle, \\hspace{0.5em} & Z|1\\rangle = -|1\\rangle\n",
    " \\end{align}\n",
    " We see that when the qubit is at state $|0\\rangle$ or $|1\\rangle$, $X$ flips the qubit, $Y$ flips the qubit and add a phase factor to it, while $Z$ only edits the phase of the qubit."
   ]
  },
  {
   "cell_type": "markdown",
   "metadata": {},
   "source": [
    "#### Exercise 1.1\n",
    "Let $|\\phi\\rangle = \\frac{1}{\\sqrt{2}}(|0\\rangle - |1\\rangle)$, derive $X|\\phi\\rangle$, $Y|\\phi\\rangle$ and $Z|\\phi\\rangle$."
   ]
  },
  {
   "cell_type": "code",
   "execution_count": 1,
   "metadata": {},
   "outputs": [],
   "source": [
    "# answer here"
   ]
  },
  {
   "cell_type": "markdown",
   "metadata": {},
   "source": [
    "#### b. Hadamard gate"
   ]
  },
  {
   "cell_type": "markdown",
   "metadata": {},
   "source": [
    "The Hadamard gate is also a single-qubit gate, represented by the symbol $H$. (Don't mix it up with Hamiltoninan!)\n",
    "The matrix form is\n",
    "$$H = \\frac{1}{\\sqrt{2}} \\begin{bmatrix} 1 & 1 \\\\ 1 & -1\\end{bmatrix}$$\n",
    "Acting on $|0\\rangle$ and $|1\\rangle$ yields:\n",
    "$$H|0\\rangle =  \\frac{1}{\\sqrt{2}} (|0\\rangle + |1\\rangle), \\hspace{0.5em} \n",
    "H|1\\rangle =  \\frac{1}{\\sqrt{2}} (|0\\rangle - |1\\rangle)$$\n",
    "Unlike Pauli gates, the Hadamard gate creates superpositions of $|0\\rangle$ and $|1\\rangle.\n",
    "\n",
    "#### Exercise 1.2\n",
    "Prove that $Z = HXH$ and $X = HZH$."
   ]
  },
  {
   "cell_type": "code",
   "execution_count": 2,
   "metadata": {},
   "outputs": [],
   "source": [
    "#answer here"
   ]
  },
  {
   "cell_type": "code",
   "execution_count": null,
   "metadata": {},
   "outputs": [],
   "source": []
  }
 ],
 "metadata": {
  "kernelspec": {
   "display_name": "Python 3",
   "language": "python",
   "name": "python3"
  },
  "language_info": {
   "codemirror_mode": {
    "name": "ipython",
    "version": 3
   },
   "file_extension": ".py",
   "mimetype": "text/x-python",
   "name": "python",
   "nbconvert_exporter": "python",
   "pygments_lexer": "ipython3",
   "version": "3.8.5"
  }
 },
 "nbformat": 4,
 "nbformat_minor": 4
}
